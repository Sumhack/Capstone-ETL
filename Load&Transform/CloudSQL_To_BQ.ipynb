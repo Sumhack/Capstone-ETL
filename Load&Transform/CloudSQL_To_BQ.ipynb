{
 "cells": [
  {
   "cell_type": "code",
   "execution_count": 10,
   "metadata": {},
   "outputs": [],
   "source": [
    "import datetime\n",
    "\n",
    "from google.cloud import bigquery\n",
    "import pandas as pd\n",
    "import pytz\n",
    "from google.oauth2 import service_account\n",
    "import numpy as np"
   ]
  },
  {
   "cell_type": "code",
   "execution_count": 11,
   "metadata": {},
   "outputs": [],
   "source": [
    "credentials = service_account.Credentials.from_service_account_file('pax-10-366616-49c701642ebe.json')"
   ]
  },
  {
   "cell_type": "code",
   "execution_count": 12,
   "metadata": {},
   "outputs": [],
   "source": [
    "client = bigquery.Client(credentials=credentials)"
   ]
  },
  {
   "cell_type": "code",
   "execution_count": 13,
   "metadata": {},
   "outputs": [],
   "source": [
    "import pymysql\n",
    "\n",
    "# Connect to the database\n",
    "connection = pymysql.connect(host='34.75.252.143',\n",
    "                         user='root',\n",
    "                         password='Suman#007',\n",
    "                         db='sales')\n",
    "\n",
    "# create cursor\n",
    "cursor=connection.cursor()"
   ]
  },
  {
   "cell_type": "code",
   "execution_count": 14,
   "metadata": {
    "scrolled": true
   },
   "outputs": [
    {
     "name": "stderr",
     "output_type": "stream",
     "text": [
      "C:\\Users\\suman\\projeevt1\\env\\lib\\site-packages\\pandas\\io\\sql.py:761: UserWarning: pandas only support SQLAlchemy connectable(engine/connection) ordatabase string URI or sqlite3 DBAPI2 connectionother DBAPI2 objects are not tested, please consider using SQLAlchemy\n",
      "  warnings.warn(\n"
     ]
    }
   ],
   "source": [
    "df_order_details=pd.read_sql(f'''select * from order_details''',connection)\n"
   ]
  },
  {
   "cell_type": "code",
   "execution_count": 15,
   "metadata": {},
   "outputs": [
    {
     "name": "stderr",
     "output_type": "stream",
     "text": [
      "C:\\Users\\suman\\projeevt1\\env\\lib\\site-packages\\pandas\\io\\sql.py:761: UserWarning: pandas only support SQLAlchemy connectable(engine/connection) ordatabase string URI or sqlite3 DBAPI2 connectionother DBAPI2 objects are not tested, please consider using SQLAlchemy\n",
      "  warnings.warn(\n"
     ]
    }
   ],
   "source": [
    "df_consumer_master=pd.read_sql(f'''select * from customer_master''',connection)"
   ]
  },
  {
   "cell_type": "code",
   "execution_count": 16,
   "metadata": {},
   "outputs": [
    {
     "name": "stderr",
     "output_type": "stream",
     "text": [
      "C:\\Users\\suman\\projeevt1\\env\\lib\\site-packages\\pandas\\io\\sql.py:761: UserWarning: pandas only support SQLAlchemy connectable(engine/connection) ordatabase string URI or sqlite3 DBAPI2 connectionother DBAPI2 objects are not tested, please consider using SQLAlchemy\n",
      "  warnings.warn(\n"
     ]
    }
   ],
   "source": [
    "\n",
    "df_order_items=pd.read_sql(f'''select * from order_items''',connection)"
   ]
  },
  {
   "cell_type": "code",
   "execution_count": 17,
   "metadata": {},
   "outputs": [
    {
     "name": "stderr",
     "output_type": "stream",
     "text": [
      "C:\\Users\\suman\\projeevt1\\env\\lib\\site-packages\\pandas\\io\\sql.py:761: UserWarning: pandas only support SQLAlchemy connectable(engine/connection) ordatabase string URI or sqlite3 DBAPI2 connectionother DBAPI2 objects are not tested, please consider using SQLAlchemy\n",
      "  warnings.warn(\n"
     ]
    }
   ],
   "source": [
    "df_product_master=pd.read_sql(f'''select * from product_master''',connection)"
   ]
  },
  {
   "cell_type": "code",
   "execution_count": 18,
   "metadata": {
    "scrolled": true
   },
   "outputs": [
    {
     "data": {
      "text/html": [
       "<div>\n",
       "<style scoped>\n",
       "    .dataframe tbody tr th:only-of-type {\n",
       "        vertical-align: middle;\n",
       "    }\n",
       "\n",
       "    .dataframe tbody tr th {\n",
       "        vertical-align: top;\n",
       "    }\n",
       "\n",
       "    .dataframe thead th {\n",
       "        text-align: right;\n",
       "    }\n",
       "</style>\n",
       "<table border=\"1\" class=\"dataframe\">\n",
       "  <thead>\n",
       "    <tr style=\"text-align: right;\">\n",
       "      <th></th>\n",
       "      <th>orderid</th>\n",
       "      <th>customerid</th>\n",
       "      <th>order_status_update_timestamp</th>\n",
       "      <th>order_status</th>\n",
       "    </tr>\n",
       "  </thead>\n",
       "  <tbody>\n",
       "    <tr>\n",
       "      <th>0</th>\n",
       "      <td>1</td>\n",
       "      <td>50</td>\n",
       "      <td>2022-11-20 13:29:19</td>\n",
       "      <td>Delivered</td>\n",
       "    </tr>\n",
       "    <tr>\n",
       "      <th>1</th>\n",
       "      <td>1</td>\n",
       "      <td>50</td>\n",
       "      <td>2022-11-19 18:14:02</td>\n",
       "      <td>InProgress</td>\n",
       "    </tr>\n",
       "    <tr>\n",
       "      <th>2</th>\n",
       "      <td>1</td>\n",
       "      <td>50</td>\n",
       "      <td>2022-11-19 16:48:54</td>\n",
       "      <td>Received</td>\n",
       "    </tr>\n",
       "    <tr>\n",
       "      <th>3</th>\n",
       "      <td>2</td>\n",
       "      <td>990</td>\n",
       "      <td>2022-03-31 07:47:27</td>\n",
       "      <td>Delivered</td>\n",
       "    </tr>\n",
       "    <tr>\n",
       "      <th>4</th>\n",
       "      <td>2</td>\n",
       "      <td>990</td>\n",
       "      <td>2022-03-30 15:18:23</td>\n",
       "      <td>InProgress</td>\n",
       "    </tr>\n",
       "    <tr>\n",
       "      <th>5</th>\n",
       "      <td>2</td>\n",
       "      <td>990</td>\n",
       "      <td>2022-03-30 02:00:36</td>\n",
       "      <td>Received</td>\n",
       "    </tr>\n",
       "    <tr>\n",
       "      <th>6</th>\n",
       "      <td>3</td>\n",
       "      <td>627</td>\n",
       "      <td>2022-07-22 21:09:31</td>\n",
       "      <td>Delivered</td>\n",
       "    </tr>\n",
       "    <tr>\n",
       "      <th>7</th>\n",
       "      <td>3</td>\n",
       "      <td>627</td>\n",
       "      <td>2022-07-22 20:15:51</td>\n",
       "      <td>InProgress</td>\n",
       "    </tr>\n",
       "    <tr>\n",
       "      <th>8</th>\n",
       "      <td>3</td>\n",
       "      <td>627</td>\n",
       "      <td>2022-07-22 06:23:57</td>\n",
       "      <td>Received</td>\n",
       "    </tr>\n",
       "    <tr>\n",
       "      <th>9</th>\n",
       "      <td>4</td>\n",
       "      <td>916</td>\n",
       "      <td>2022-09-08 11:21:46</td>\n",
       "      <td>Delivered</td>\n",
       "    </tr>\n",
       "    <tr>\n",
       "      <th>10</th>\n",
       "      <td>4</td>\n",
       "      <td>916</td>\n",
       "      <td>2022-09-07 19:42:51</td>\n",
       "      <td>InProgress</td>\n",
       "    </tr>\n",
       "    <tr>\n",
       "      <th>11</th>\n",
       "      <td>4</td>\n",
       "      <td>916</td>\n",
       "      <td>2022-09-07 11:36:35</td>\n",
       "      <td>Received</td>\n",
       "    </tr>\n",
       "    <tr>\n",
       "      <th>12</th>\n",
       "      <td>5</td>\n",
       "      <td>24</td>\n",
       "      <td>2022-03-11 10:15:07</td>\n",
       "      <td>Delivered</td>\n",
       "    </tr>\n",
       "    <tr>\n",
       "      <th>13</th>\n",
       "      <td>5</td>\n",
       "      <td>24</td>\n",
       "      <td>2022-03-10 20:54:34</td>\n",
       "      <td>InProgress</td>\n",
       "    </tr>\n",
       "    <tr>\n",
       "      <th>14</th>\n",
       "      <td>5</td>\n",
       "      <td>24</td>\n",
       "      <td>2022-03-10 00:00:55</td>\n",
       "      <td>Received</td>\n",
       "    </tr>\n",
       "    <tr>\n",
       "      <th>15</th>\n",
       "      <td>6</td>\n",
       "      <td>107</td>\n",
       "      <td>2022-08-26 01:00:05</td>\n",
       "      <td>Delivered</td>\n",
       "    </tr>\n",
       "    <tr>\n",
       "      <th>16</th>\n",
       "      <td>6</td>\n",
       "      <td>107</td>\n",
       "      <td>2022-08-25 21:15:04</td>\n",
       "      <td>InProgress</td>\n",
       "    </tr>\n",
       "    <tr>\n",
       "      <th>17</th>\n",
       "      <td>6</td>\n",
       "      <td>107</td>\n",
       "      <td>2022-08-25 00:28:33</td>\n",
       "      <td>Received</td>\n",
       "    </tr>\n",
       "    <tr>\n",
       "      <th>18</th>\n",
       "      <td>7</td>\n",
       "      <td>262</td>\n",
       "      <td>2022-03-25 15:27:15</td>\n",
       "      <td>Delivered</td>\n",
       "    </tr>\n",
       "    <tr>\n",
       "      <th>19</th>\n",
       "      <td>7</td>\n",
       "      <td>262</td>\n",
       "      <td>2022-03-25 06:43:03</td>\n",
       "      <td>InProgress</td>\n",
       "    </tr>\n",
       "  </tbody>\n",
       "</table>\n",
       "</div>"
      ],
      "text/plain": [
       "    orderid  customerid order_status_update_timestamp order_status\n",
       "0         1          50           2022-11-20 13:29:19    Delivered\n",
       "1         1          50           2022-11-19 18:14:02   InProgress\n",
       "2         1          50           2022-11-19 16:48:54     Received\n",
       "3         2         990           2022-03-31 07:47:27    Delivered\n",
       "4         2         990           2022-03-30 15:18:23   InProgress\n",
       "5         2         990           2022-03-30 02:00:36     Received\n",
       "6         3         627           2022-07-22 21:09:31    Delivered\n",
       "7         3         627           2022-07-22 20:15:51   InProgress\n",
       "8         3         627           2022-07-22 06:23:57     Received\n",
       "9         4         916           2022-09-08 11:21:46    Delivered\n",
       "10        4         916           2022-09-07 19:42:51   InProgress\n",
       "11        4         916           2022-09-07 11:36:35     Received\n",
       "12        5          24           2022-03-11 10:15:07    Delivered\n",
       "13        5          24           2022-03-10 20:54:34   InProgress\n",
       "14        5          24           2022-03-10 00:00:55     Received\n",
       "15        6         107           2022-08-26 01:00:05    Delivered\n",
       "16        6         107           2022-08-25 21:15:04   InProgress\n",
       "17        6         107           2022-08-25 00:28:33     Received\n",
       "18        7         262           2022-03-25 15:27:15    Delivered\n",
       "19        7         262           2022-03-25 06:43:03   InProgress"
      ]
     },
     "execution_count": 18,
     "metadata": {},
     "output_type": "execute_result"
    }
   ],
   "source": [
    "df_order_details.head(20)"
   ]
  },
  {
   "cell_type": "code",
   "execution_count": 19,
   "metadata": {},
   "outputs": [],
   "source": [
    "def dim_order(df_order_details):\n",
    "    g = df_order_details\n",
    "    #g = df_order_details.groupby(\"orderid\").tail(1)\n",
    "    x = g[[\"orderid\",\"order_status_update_timestamp\",\"order_status\"]]\n",
    "    dim_order = x.reset_index()\n",
    "    del dim_order[\"index\"]\n",
    "    return dim_order"
   ]
  },
  {
   "cell_type": "code",
   "execution_count": 20,
   "metadata": {},
   "outputs": [],
   "source": [
    "dim_order = dim_order(df_order_details)"
   ]
  },
  {
   "cell_type": "code",
   "execution_count": 21,
   "metadata": {},
   "outputs": [
    {
     "data": {
      "text/html": [
       "<div>\n",
       "<style scoped>\n",
       "    .dataframe tbody tr th:only-of-type {\n",
       "        vertical-align: middle;\n",
       "    }\n",
       "\n",
       "    .dataframe tbody tr th {\n",
       "        vertical-align: top;\n",
       "    }\n",
       "\n",
       "    .dataframe thead th {\n",
       "        text-align: right;\n",
       "    }\n",
       "</style>\n",
       "<table border=\"1\" class=\"dataframe\">\n",
       "  <thead>\n",
       "    <tr style=\"text-align: right;\">\n",
       "      <th></th>\n",
       "      <th>orderid</th>\n",
       "      <th>order_status_update_timestamp</th>\n",
       "      <th>order_status</th>\n",
       "    </tr>\n",
       "  </thead>\n",
       "  <tbody>\n",
       "    <tr>\n",
       "      <th>0</th>\n",
       "      <td>1</td>\n",
       "      <td>2022-11-20 13:29:19</td>\n",
       "      <td>Delivered</td>\n",
       "    </tr>\n",
       "    <tr>\n",
       "      <th>1</th>\n",
       "      <td>1</td>\n",
       "      <td>2022-11-19 18:14:02</td>\n",
       "      <td>InProgress</td>\n",
       "    </tr>\n",
       "    <tr>\n",
       "      <th>2</th>\n",
       "      <td>1</td>\n",
       "      <td>2022-11-19 16:48:54</td>\n",
       "      <td>Received</td>\n",
       "    </tr>\n",
       "    <tr>\n",
       "      <th>3</th>\n",
       "      <td>2</td>\n",
       "      <td>2022-03-31 07:47:27</td>\n",
       "      <td>Delivered</td>\n",
       "    </tr>\n",
       "    <tr>\n",
       "      <th>4</th>\n",
       "      <td>2</td>\n",
       "      <td>2022-03-30 15:18:23</td>\n",
       "      <td>InProgress</td>\n",
       "    </tr>\n",
       "  </tbody>\n",
       "</table>\n",
       "</div>"
      ],
      "text/plain": [
       "   orderid order_status_update_timestamp order_status\n",
       "0        1           2022-11-20 13:29:19    Delivered\n",
       "1        1           2022-11-19 18:14:02   InProgress\n",
       "2        1           2022-11-19 16:48:54     Received\n",
       "3        2           2022-03-31 07:47:27    Delivered\n",
       "4        2           2022-03-30 15:18:23   InProgress"
      ]
     },
     "execution_count": 21,
     "metadata": {},
     "output_type": "execute_result"
    }
   ],
   "source": [
    "dim_order.head()"
   ]
  },
  {
   "cell_type": "code",
   "execution_count": 22,
   "metadata": {},
   "outputs": [
    {
     "data": {
      "text/plain": [
       "LoadJob<project=pax-10-366616, location=US, id=b4d928fb-4578-40a8-8fb5-c3cce465fc39>"
      ]
     },
     "execution_count": 22,
     "metadata": {},
     "output_type": "execute_result"
    }
   ],
   "source": [
    "tableRef2 = client.dataset(\"star_schema\").table(\"dim_order\")\n",
    "client.load_table_from_dataframe(dim_order,tableRef2)"
   ]
  },
  {
   "cell_type": "code",
   "execution_count": 23,
   "metadata": {},
   "outputs": [],
   "source": [
    "def insert_dim_customer(df_consumer_master):\n",
    "    df_consumer_master[\"address_id\"] = list(range(1,1001))\n",
    "    dim_customer =df_consumer_master[[\"customerid\",\"name\",\"address_id\"]]\n",
    "    dim_customer[\"start_date\"]= (df_consumer_master['update_timestamp'].dt.date).astype('datetime64')\n",
    "    dim_customer[\"end_date\"] = np.nan\n",
    "    dim_customer[\"end_date\"]=pd.to_datetime(dim_customer[\"end_date\"])\n",
    "    return dim_customer"
   ]
  },
  {
   "cell_type": "code",
   "execution_count": 24,
   "metadata": {
    "scrolled": true
   },
   "outputs": [
    {
     "name": "stderr",
     "output_type": "stream",
     "text": [
      "<ipython-input-23-5860bea26682>:4: SettingWithCopyWarning: \n",
      "A value is trying to be set on a copy of a slice from a DataFrame.\n",
      "Try using .loc[row_indexer,col_indexer] = value instead\n",
      "\n",
      "See the caveats in the documentation: https://pandas.pydata.org/pandas-docs/stable/user_guide/indexing.html#returning-a-view-versus-a-copy\n",
      "  dim_customer[\"start_date\"]= (df_consumer_master['update_timestamp'].dt.date).astype('datetime64')\n",
      "<ipython-input-23-5860bea26682>:5: SettingWithCopyWarning: \n",
      "A value is trying to be set on a copy of a slice from a DataFrame.\n",
      "Try using .loc[row_indexer,col_indexer] = value instead\n",
      "\n",
      "See the caveats in the documentation: https://pandas.pydata.org/pandas-docs/stable/user_guide/indexing.html#returning-a-view-versus-a-copy\n",
      "  dim_customer[\"end_date\"] = np.nan\n",
      "<ipython-input-23-5860bea26682>:6: SettingWithCopyWarning: \n",
      "A value is trying to be set on a copy of a slice from a DataFrame.\n",
      "Try using .loc[row_indexer,col_indexer] = value instead\n",
      "\n",
      "See the caveats in the documentation: https://pandas.pydata.org/pandas-docs/stable/user_guide/indexing.html#returning-a-view-versus-a-copy\n",
      "  dim_customer[\"end_date\"]=pd.to_datetime(dim_customer[\"end_date\"])\n"
     ]
    }
   ],
   "source": [
    "dim_customer = insert_dim_customer(df_consumer_master)"
   ]
  },
  {
   "cell_type": "code",
   "execution_count": 25,
   "metadata": {
    "scrolled": true
   },
   "outputs": [
    {
     "data": {
      "text/html": [
       "<div>\n",
       "<style scoped>\n",
       "    .dataframe tbody tr th:only-of-type {\n",
       "        vertical-align: middle;\n",
       "    }\n",
       "\n",
       "    .dataframe tbody tr th {\n",
       "        vertical-align: top;\n",
       "    }\n",
       "\n",
       "    .dataframe thead th {\n",
       "        text-align: right;\n",
       "    }\n",
       "</style>\n",
       "<table border=\"1\" class=\"dataframe\">\n",
       "  <thead>\n",
       "    <tr style=\"text-align: right;\">\n",
       "      <th></th>\n",
       "      <th>customerid</th>\n",
       "      <th>name</th>\n",
       "      <th>address_id</th>\n",
       "      <th>start_date</th>\n",
       "      <th>end_date</th>\n",
       "    </tr>\n",
       "  </thead>\n",
       "  <tbody>\n",
       "    <tr>\n",
       "      <th>0</th>\n",
       "      <td>1</td>\n",
       "      <td>Aaryahi Khurana</td>\n",
       "      <td>1</td>\n",
       "      <td>2022-08-23</td>\n",
       "      <td>NaT</td>\n",
       "    </tr>\n",
       "    <tr>\n",
       "      <th>1</th>\n",
       "      <td>2</td>\n",
       "      <td>Vaibhav Kade</td>\n",
       "      <td>2</td>\n",
       "      <td>2022-04-28</td>\n",
       "      <td>NaT</td>\n",
       "    </tr>\n",
       "    <tr>\n",
       "      <th>2</th>\n",
       "      <td>3</td>\n",
       "      <td>Trisha Yadav</td>\n",
       "      <td>3</td>\n",
       "      <td>2022-01-13</td>\n",
       "      <td>NaT</td>\n",
       "    </tr>\n",
       "    <tr>\n",
       "      <th>3</th>\n",
       "      <td>4</td>\n",
       "      <td>Romil Taneja</td>\n",
       "      <td>4</td>\n",
       "      <td>2022-06-23</td>\n",
       "      <td>NaT</td>\n",
       "    </tr>\n",
       "    <tr>\n",
       "      <th>4</th>\n",
       "      <td>5</td>\n",
       "      <td>Pihu Devan</td>\n",
       "      <td>5</td>\n",
       "      <td>2022-07-31</td>\n",
       "      <td>NaT</td>\n",
       "    </tr>\n",
       "  </tbody>\n",
       "</table>\n",
       "</div>"
      ],
      "text/plain": [
       "   customerid             name  address_id start_date end_date\n",
       "0           1  Aaryahi Khurana           1 2022-08-23      NaT\n",
       "1           2     Vaibhav Kade           2 2022-04-28      NaT\n",
       "2           3     Trisha Yadav           3 2022-01-13      NaT\n",
       "3           4     Romil Taneja           4 2022-06-23      NaT\n",
       "4           5       Pihu Devan           5 2022-07-31      NaT"
      ]
     },
     "execution_count": 25,
     "metadata": {},
     "output_type": "execute_result"
    }
   ],
   "source": [
    "dim_customer.head()"
   ]
  },
  {
   "cell_type": "code",
   "execution_count": 26,
   "metadata": {},
   "outputs": [
    {
     "data": {
      "text/plain": [
       "LoadJob<project=pax-10-366616, location=US, id=1845ee66-f642-4f27-b839-0ce4c188ac5c>"
      ]
     },
     "execution_count": 26,
     "metadata": {},
     "output_type": "execute_result"
    }
   ],
   "source": [
    "tableRef4 = client.dataset(\"star_schema\").table(\"dim_customer\")\n",
    "client.load_table_from_dataframe(dim_customer,tableRef4)"
   ]
  },
  {
   "cell_type": "code",
   "execution_count": 27,
   "metadata": {},
   "outputs": [],
   "source": [
    "def insert_dim_address(df_consumer_master):\n",
    "    df_consumer_master[\"address_id\"] = list(range(1,1001))\n",
    "    dim_address = df_consumer_master[[\"address_id\",\"address\",\"city\",\"state\",\"pincode\"]]\n",
    "    return dim_address"
   ]
  },
  {
   "cell_type": "code",
   "execution_count": 28,
   "metadata": {},
   "outputs": [],
   "source": [
    "dim_address = insert_dim_address(df_consumer_master)"
   ]
  },
  {
   "cell_type": "code",
   "execution_count": 29,
   "metadata": {},
   "outputs": [
    {
     "data": {
      "text/plain": [
       "address_id     int64\n",
       "address       object\n",
       "city          object\n",
       "state         object\n",
       "pincode        int64\n",
       "dtype: object"
      ]
     },
     "execution_count": 29,
     "metadata": {},
     "output_type": "execute_result"
    }
   ],
   "source": [
    "\n",
    "dim_address.dtypes"
   ]
  },
  {
   "cell_type": "code",
   "execution_count": 30,
   "metadata": {},
   "outputs": [
    {
     "data": {
      "text/plain": [
       "LoadJob<project=pax-10-366616, location=US, id=2b5ad87e-6d00-43d4-b5f5-fe2df4b34923>"
      ]
     },
     "execution_count": 30,
     "metadata": {},
     "output_type": "execute_result"
    }
   ],
   "source": [
    "tableRef1 = client.dataset(\"star_schema\").table(\"dim_address\")\n",
    "client.load_table_from_dataframe(dim_address,tableRef1)"
   ]
  },
  {
   "cell_type": "code",
   "execution_count": 31,
   "metadata": {},
   "outputs": [],
   "source": [
    "def insert_dim_product(df_product_master):\n",
    "    dim_product = df_product_master\n",
    "    dim_product[\"start_date\"]=np.nan\n",
    "    dim_product[\"start_date\"]=pd.to_datetime(dim_product[\"start_date\"])\n",
    "    dim_product[\"end_date\"]=np.nan\n",
    "    dim_product[\"end_date\"]=pd.to_datetime(dim_product[\"end_date\"])\n",
    "    return dim_product"
   ]
  },
  {
   "cell_type": "code",
   "execution_count": 32,
   "metadata": {},
   "outputs": [],
   "source": [
    "dim_product=insert_dim_product(df_product_master)"
   ]
  },
  {
   "cell_type": "code",
   "execution_count": 33,
   "metadata": {},
   "outputs": [
    {
     "data": {
      "text/plain": [
       "LoadJob<project=pax-10-366616, location=US, id=fb41aeff-a7c3-4db2-bd1c-aef62682e2ac>"
      ]
     },
     "execution_count": 33,
     "metadata": {},
     "output_type": "execute_result"
    }
   ],
   "source": [
    "tableRef5 = client.dataset(\"star_schema\").table(\"dim_product\")\n",
    "client.load_table_from_dataframe(dim_product,tableRef5)"
   ]
  },
  {
   "cell_type": "code",
   "execution_count": 34,
   "metadata": {},
   "outputs": [],
   "source": [
    "def insert_f_order_details(df_order_details,df_order_items):\n",
    "    f_order_details = pd.merge(df_order_details.groupby(\"orderid\").tail(1), df_order_items, how='inner')[[\"orderid\",\"order_status_update_timestamp\",\"productid\",\"quantity\"]]\n",
    "    f_order_details.columns = [\"orderid\",\"order_delivery_timestamp\",\"productid\",\"quantity\"]\n",
    "    return f_order_details"
   ]
  },
  {
   "cell_type": "code",
   "execution_count": 35,
   "metadata": {},
   "outputs": [],
   "source": [
    "f_order_details = insert_f_order_details(df_order_details,df_order_items)\n"
   ]
  },
  {
   "cell_type": "code",
   "execution_count": 36,
   "metadata": {},
   "outputs": [
    {
     "data": {
      "text/html": [
       "<div>\n",
       "<style scoped>\n",
       "    .dataframe tbody tr th:only-of-type {\n",
       "        vertical-align: middle;\n",
       "    }\n",
       "\n",
       "    .dataframe tbody tr th {\n",
       "        vertical-align: top;\n",
       "    }\n",
       "\n",
       "    .dataframe thead th {\n",
       "        text-align: right;\n",
       "    }\n",
       "</style>\n",
       "<table border=\"1\" class=\"dataframe\">\n",
       "  <thead>\n",
       "    <tr style=\"text-align: right;\">\n",
       "      <th></th>\n",
       "      <th>orderid</th>\n",
       "      <th>order_delivery_timestamp</th>\n",
       "      <th>productid</th>\n",
       "      <th>quantity</th>\n",
       "    </tr>\n",
       "  </thead>\n",
       "  <tbody>\n",
       "    <tr>\n",
       "      <th>0</th>\n",
       "      <td>1</td>\n",
       "      <td>2022-11-19 16:48:54</td>\n",
       "      <td>22</td>\n",
       "      <td>5</td>\n",
       "    </tr>\n",
       "    <tr>\n",
       "      <th>1</th>\n",
       "      <td>1</td>\n",
       "      <td>2022-11-19 16:48:54</td>\n",
       "      <td>37</td>\n",
       "      <td>5</td>\n",
       "    </tr>\n",
       "    <tr>\n",
       "      <th>2</th>\n",
       "      <td>2</td>\n",
       "      <td>2022-03-30 02:00:36</td>\n",
       "      <td>2</td>\n",
       "      <td>1</td>\n",
       "    </tr>\n",
       "    <tr>\n",
       "      <th>3</th>\n",
       "      <td>2</td>\n",
       "      <td>2022-03-30 02:00:36</td>\n",
       "      <td>9</td>\n",
       "      <td>1</td>\n",
       "    </tr>\n",
       "    <tr>\n",
       "      <th>4</th>\n",
       "      <td>2</td>\n",
       "      <td>2022-03-30 02:00:36</td>\n",
       "      <td>23</td>\n",
       "      <td>5</td>\n",
       "    </tr>\n",
       "  </tbody>\n",
       "</table>\n",
       "</div>"
      ],
      "text/plain": [
       "   orderid order_delivery_timestamp  productid  quantity\n",
       "0        1      2022-11-19 16:48:54         22         5\n",
       "1        1      2022-11-19 16:48:54         37         5\n",
       "2        2      2022-03-30 02:00:36          2         1\n",
       "3        2      2022-03-30 02:00:36          9         1\n",
       "4        2      2022-03-30 02:00:36         23         5"
      ]
     },
     "execution_count": 36,
     "metadata": {},
     "output_type": "execute_result"
    }
   ],
   "source": [
    "f_order_details.head()\n"
   ]
  },
  {
   "cell_type": "code",
   "execution_count": 37,
   "metadata": {},
   "outputs": [
    {
     "data": {
      "text/plain": [
       "LoadJob<project=pax-10-366616, location=US, id=ab9c9c32-20c7-46f7-894e-681726156cc9>"
      ]
     },
     "execution_count": 37,
     "metadata": {},
     "output_type": "execute_result"
    }
   ],
   "source": [
    "tableRef6 = client.dataset(\"star_schema\").table(\"f_order_details\")\n",
    "client.load_table_from_dataframe(f_order_details,tableRef6)"
   ]
  },
  {
   "cell_type": "code",
   "execution_count": 38,
   "metadata": {},
   "outputs": [],
   "source": [
    "def insert_fact_daily_orders(df_consumer_master,df_order_details,df_order_items):\n",
    "    x=df_order_details.groupby(\"orderid\").head(1)[[\"customerid\",\"orderid\",\"order_status_update_timestamp\"]].reset_index()\n",
    "    del x[\"index\"]\n",
    "    y=df_order_details.groupby(\"orderid\").tail(1)[\"order_status_update_timestamp\"].reset_index()\n",
    "    del y[\"index\"]     \n",
    "    fact_daily_orders = pd.concat([x,y],axis=1)\n",
    "    fact_daily_orders.columns = [\"customerid\",\"orderid\",\"order_received_timestamp\",\"order_delivery_timestamp\"]\n",
    "    l=[]\n",
    "    for i in fact_daily_orders[\"customerid\"]:\n",
    "             l.append(int(df_consumer_master.where(df_consumer_master[\"customerid\"]==i).dropna()[\"pincode\"]))\n",
    "            # l is pincode column\n",
    "    fact_daily_orders[\"pincode\"] = l\n",
    "        \n",
    "    \n",
    "    k=[]\n",
    "    m=[]\n",
    "    for i in df_order_items[\"productid\"]:\n",
    "        m=list(df_product_master.where(df_product_master[\"productid\"]==i)[\"rate\"].dropna() * df_order_items.iloc[i,2])\n",
    "        k.append(m[0])\n",
    "    df_order_items[\"Total\"]=k    \n",
    "    k = df_order_items.groupby('orderid')[\"Total\"].sum()\n",
    "    k1 = df_order_items.groupby('orderid')[\"quantity\"].sum()\n",
    "    k=k.tolist()\n",
    "    fact_daily_orders[\"order_amount\"]=k\n",
    "    fact_daily_orders[\"item_count\"]=list(k1)\n",
    "    fact_daily_orders[\"order_delivery_time_seconds\"] =fact_daily_orders[\"order_delivery_timestamp\"] - fact_daily_orders[\"order_received_timestamp\"]\n",
    "    return fact_daily_orders"
   ]
  },
  {
   "cell_type": "code",
   "execution_count": 39,
   "metadata": {
    "scrolled": true
   },
   "outputs": [],
   "source": [
    "fact_daily_orders = insert_fact_daily_orders(df_consumer_master,df_order_details,df_order_items)"
   ]
  },
  {
   "cell_type": "code",
   "execution_count": 40,
   "metadata": {},
   "outputs": [
    {
     "data": {
      "text/html": [
       "<div>\n",
       "<style scoped>\n",
       "    .dataframe tbody tr th:only-of-type {\n",
       "        vertical-align: middle;\n",
       "    }\n",
       "\n",
       "    .dataframe tbody tr th {\n",
       "        vertical-align: top;\n",
       "    }\n",
       "\n",
       "    .dataframe thead th {\n",
       "        text-align: right;\n",
       "    }\n",
       "</style>\n",
       "<table border=\"1\" class=\"dataframe\">\n",
       "  <thead>\n",
       "    <tr style=\"text-align: right;\">\n",
       "      <th></th>\n",
       "      <th>customerid</th>\n",
       "      <th>orderid</th>\n",
       "      <th>order_received_timestamp</th>\n",
       "      <th>order_delivery_timestamp</th>\n",
       "      <th>pincode</th>\n",
       "      <th>order_amount</th>\n",
       "      <th>item_count</th>\n",
       "      <th>order_delivery_time_seconds</th>\n",
       "    </tr>\n",
       "  </thead>\n",
       "  <tbody>\n",
       "    <tr>\n",
       "      <th>0</th>\n",
       "      <td>50</td>\n",
       "      <td>1</td>\n",
       "      <td>2022-11-20 13:29:19</td>\n",
       "      <td>2022-11-19 16:48:54</td>\n",
       "      <td>111463</td>\n",
       "      <td>7873.0</td>\n",
       "      <td>10</td>\n",
       "      <td>-1 days +03:19:35</td>\n",
       "    </tr>\n",
       "    <tr>\n",
       "      <th>1</th>\n",
       "      <td>990</td>\n",
       "      <td>2</td>\n",
       "      <td>2022-03-31 07:47:27</td>\n",
       "      <td>2022-03-30 02:00:36</td>\n",
       "      <td>843590</td>\n",
       "      <td>14161.0</td>\n",
       "      <td>11</td>\n",
       "      <td>-2 days +18:13:09</td>\n",
       "    </tr>\n",
       "    <tr>\n",
       "      <th>2</th>\n",
       "      <td>627</td>\n",
       "      <td>3</td>\n",
       "      <td>2022-07-22 21:09:31</td>\n",
       "      <td>2022-07-22 06:23:57</td>\n",
       "      <td>640651</td>\n",
       "      <td>7583.0</td>\n",
       "      <td>13</td>\n",
       "      <td>-1 days +09:14:26</td>\n",
       "    </tr>\n",
       "    <tr>\n",
       "      <th>3</th>\n",
       "      <td>916</td>\n",
       "      <td>4</td>\n",
       "      <td>2022-09-08 11:21:46</td>\n",
       "      <td>2022-09-07 11:36:35</td>\n",
       "      <td>363894</td>\n",
       "      <td>8989.0</td>\n",
       "      <td>4</td>\n",
       "      <td>-1 days +00:14:49</td>\n",
       "    </tr>\n",
       "    <tr>\n",
       "      <th>4</th>\n",
       "      <td>24</td>\n",
       "      <td>5</td>\n",
       "      <td>2022-03-11 10:15:07</td>\n",
       "      <td>2022-03-10 00:00:55</td>\n",
       "      <td>775124</td>\n",
       "      <td>1731.0</td>\n",
       "      <td>5</td>\n",
       "      <td>-2 days +13:45:48</td>\n",
       "    </tr>\n",
       "    <tr>\n",
       "      <th>5</th>\n",
       "      <td>107</td>\n",
       "      <td>6</td>\n",
       "      <td>2022-08-26 01:00:05</td>\n",
       "      <td>2022-08-25 00:28:33</td>\n",
       "      <td>719259</td>\n",
       "      <td>7461.0</td>\n",
       "      <td>10</td>\n",
       "      <td>-2 days +23:28:28</td>\n",
       "    </tr>\n",
       "    <tr>\n",
       "      <th>6</th>\n",
       "      <td>262</td>\n",
       "      <td>7</td>\n",
       "      <td>2022-03-25 15:27:15</td>\n",
       "      <td>2022-03-24 06:45:41</td>\n",
       "      <td>274472</td>\n",
       "      <td>12814.0</td>\n",
       "      <td>7</td>\n",
       "      <td>-2 days +15:18:26</td>\n",
       "    </tr>\n",
       "    <tr>\n",
       "      <th>7</th>\n",
       "      <td>731</td>\n",
       "      <td>8</td>\n",
       "      <td>2022-03-17 15:14:51</td>\n",
       "      <td>2022-03-16 12:33:26</td>\n",
       "      <td>169999</td>\n",
       "      <td>2774.0</td>\n",
       "      <td>1</td>\n",
       "      <td>-2 days +21:18:35</td>\n",
       "    </tr>\n",
       "    <tr>\n",
       "      <th>8</th>\n",
       "      <td>437</td>\n",
       "      <td>9</td>\n",
       "      <td>2022-04-24 06:23:38</td>\n",
       "      <td>2022-04-23 10:38:35</td>\n",
       "      <td>359107</td>\n",
       "      <td>16063.0</td>\n",
       "      <td>13</td>\n",
       "      <td>-1 days +04:14:57</td>\n",
       "    </tr>\n",
       "    <tr>\n",
       "      <th>9</th>\n",
       "      <td>938</td>\n",
       "      <td>10</td>\n",
       "      <td>2022-02-20 00:40:31</td>\n",
       "      <td>2022-02-19 08:05:21</td>\n",
       "      <td>17280</td>\n",
       "      <td>1497.0</td>\n",
       "      <td>2</td>\n",
       "      <td>-1 days +07:24:50</td>\n",
       "    </tr>\n",
       "  </tbody>\n",
       "</table>\n",
       "</div>"
      ],
      "text/plain": [
       "   customerid  orderid order_received_timestamp order_delivery_timestamp  \\\n",
       "0          50        1      2022-11-20 13:29:19      2022-11-19 16:48:54   \n",
       "1         990        2      2022-03-31 07:47:27      2022-03-30 02:00:36   \n",
       "2         627        3      2022-07-22 21:09:31      2022-07-22 06:23:57   \n",
       "3         916        4      2022-09-08 11:21:46      2022-09-07 11:36:35   \n",
       "4          24        5      2022-03-11 10:15:07      2022-03-10 00:00:55   \n",
       "5         107        6      2022-08-26 01:00:05      2022-08-25 00:28:33   \n",
       "6         262        7      2022-03-25 15:27:15      2022-03-24 06:45:41   \n",
       "7         731        8      2022-03-17 15:14:51      2022-03-16 12:33:26   \n",
       "8         437        9      2022-04-24 06:23:38      2022-04-23 10:38:35   \n",
       "9         938       10      2022-02-20 00:40:31      2022-02-19 08:05:21   \n",
       "\n",
       "   pincode  order_amount  item_count order_delivery_time_seconds  \n",
       "0   111463        7873.0          10           -1 days +03:19:35  \n",
       "1   843590       14161.0          11           -2 days +18:13:09  \n",
       "2   640651        7583.0          13           -1 days +09:14:26  \n",
       "3   363894        8989.0           4           -1 days +00:14:49  \n",
       "4   775124        1731.0           5           -2 days +13:45:48  \n",
       "5   719259        7461.0          10           -2 days +23:28:28  \n",
       "6   274472       12814.0           7           -2 days +15:18:26  \n",
       "7   169999        2774.0           1           -2 days +21:18:35  \n",
       "8   359107       16063.0          13           -1 days +04:14:57  \n",
       "9    17280        1497.0           2           -1 days +07:24:50  "
      ]
     },
     "execution_count": 40,
     "metadata": {},
     "output_type": "execute_result"
    }
   ],
   "source": [
    "fact_daily_orders.head(10)"
   ]
  },
  {
   "cell_type": "code",
   "execution_count": 41,
   "metadata": {},
   "outputs": [
    {
     "data": {
      "text/plain": [
       "customerid                               int64\n",
       "orderid                                  int64\n",
       "order_received_timestamp        datetime64[ns]\n",
       "order_delivery_timestamp        datetime64[ns]\n",
       "pincode                                  int64\n",
       "order_amount                           float64\n",
       "item_count                               int64\n",
       "order_delivery_time_seconds    timedelta64[ns]\n",
       "dtype: object"
      ]
     },
     "execution_count": 41,
     "metadata": {},
     "output_type": "execute_result"
    }
   ],
   "source": [
    "fact_daily_orders.dtypes"
   ]
  },
  {
   "cell_type": "code",
   "execution_count": 42,
   "metadata": {},
   "outputs": [
    {
     "name": "stderr",
     "output_type": "stream",
     "text": [
      "C:\\Users\\suman\\projeevt1\\env\\lib\\site-packages\\google\\cloud\\bigquery\\_pandas_helpers.py:552: UserWarning: Pyarrow could not determine the type of columns: order_delivery_time_seconds.\n",
      "  warnings.warn(\n"
     ]
    },
    {
     "data": {
      "text/plain": [
       "LoadJob<project=pax-10-366616, location=US, id=bea73496-e3bc-4692-8436-2227ad269fb6>"
      ]
     },
     "execution_count": 42,
     "metadata": {},
     "output_type": "execute_result"
    }
   ],
   "source": [
    "tableRef3 = client.dataset(\"star_schema\").table(\"fact_daily_orders\")\n",
    "client.load_table_from_dataframe(fact_daily_orders,tableRef3)"
   ]
  },
  {
   "cell_type": "code",
   "execution_count": null,
   "metadata": {},
   "outputs": [],
   "source": []
  }
 ],
 "metadata": {
  "kernelspec": {
   "display_name": "Python 3",
   "language": "python",
   "name": "python3"
  },
  "language_info": {
   "codemirror_mode": {
    "name": "ipython",
    "version": 3
   },
   "file_extension": ".py",
   "mimetype": "text/x-python",
   "name": "python",
   "nbconvert_exporter": "python",
   "pygments_lexer": "ipython3",
   "version": "3.8.5"
  }
 },
 "nbformat": 4,
 "nbformat_minor": 5
}
